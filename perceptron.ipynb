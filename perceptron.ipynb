{
 "metadata": {
  "language_info": {
   "codemirror_mode": {
    "name": "ipython",
    "version": 3
   },
   "file_extension": ".py",
   "mimetype": "text/x-python",
   "name": "python",
   "nbconvert_exporter": "python",
   "pygments_lexer": "ipython3",
   "version": "3.8.3-candidate"
  },
  "orig_nbformat": 2,
  "kernelspec": {
   "name": "python_defaultSpec_1600798612860",
   "display_name": "Python 3.8.3 64-bit"
  }
 },
 "nbformat": 4,
 "nbformat_minor": 2,
 "cells": [
  {
   "cell_type": "code",
   "execution_count": 1,
   "metadata": {
    "tags": []
   },
   "outputs": [],
   "source": [
    "import random\n",
    "import time\n",
    "\n",
    "class Perceptron:\n",
    "    def __init__(self, input_numb, eta):\n",
    "        self.weights = [random.randrange(-5,5) / 50.0] * (input_numb + 1)\n",
    "        self.eta = eta\n",
    "    \n",
    "    def predict(self, data):\n",
    "        test_data = [1] + data\n",
    "        input_sum = 0\n",
    "        for i in range(len(self.weights)):\n",
    "            input_sum += test_data[i] * self.weights[i]      \n",
    "        output = 1 if input_sum > 0 else -1\n",
    "        return output\n",
    "    \n",
    "    def check(self, test):\n",
    "        target = test[0]\n",
    "        test_data = [1] + test[1:]\n",
    "        input_sum = 0\n",
    "        for i in range(len(self.weights)):\n",
    "            input_sum += test_data[i] * self.weights[i]\n",
    "        output = 1 if input_sum > 0 else -1\n",
    "        return output == target\n",
    "    \n",
    "    def train(self, tests):\n",
    "        WeightsChanged = True\n",
    "\n",
    "        while (WeightsChanged == True):\n",
    "            WeightsChanged = False\n",
    "            for test in tests:\n",
    "                target = test[0]\n",
    "                test_data = [1] + test[1:]\n",
    "\n",
    "                input_sum = 0\n",
    "                for i in range(len(self.weights)):\n",
    "                    input_sum += test_data[i] * self.weights[i]\n",
    "\n",
    "                output = 1 if input_sum > 0 else -1\n",
    "                if (output == target):\n",
    "                    continue\n",
    "\n",
    "                WeightsChanged = True\n",
    "                for i in range(len(self.weights)): \n",
    "                    self.weights[i] += self.eta * (target - output) * test_data[i]\n",
    "        return self.weights"
   ]
  },
  {
   "cell_type": "code",
   "execution_count": 2,
   "metadata": {
    "tags": []
   },
   "outputs": [],
   "source": [
    "or_test = [\n",
    "    [-1, 0, 0],\n",
    "    [1, 0, 1],\n",
    "    [1, 1, 0],\n",
    "    [1, 1, 1],\n",
    "]\n",
    "\n",
    "and_test = [\n",
    "    [-1, 0, 0],\n",
    "    [-1, 0, 1],\n",
    "    [-1, 1, 0],\n",
    "    [1, 1, 1]\n",
    "]\n",
    "\n",
    "nand_test = [\n",
    "    [1, 0, 0],\n",
    "    [1, 0, 1],\n",
    "    [1, 1, 0],\n",
    "    [-1, 1, 1]\n",
    "]\n",
    "\n",
    "xor_test = [\n",
    "    [-1, 0, 0],\n",
    "    [1, 0, 1],\n",
    "    [1, 1, 0],\n",
    "    [-1, 1, 1]\n",
    "]"
   ]
  },
  {
   "cell_type": "code",
   "execution_count": 3,
   "metadata": {
    "tags": []
   },
   "outputs": [
    {
     "output_type": "stream",
     "name": "stdout",
     "text": "1\nTrue\n\n-1\nTrue\n\n1\nTrue\n\n"
    }
   ],
   "source": [
    "p1 = Perceptron(2, 0.1)\n",
    "p1.train(or_test)\n",
    "print(p1.predict([0, 1]))\n",
    "print(p1.check([-1, 0, 0]))\n",
    "print()\n",
    "\n",
    "p2 = Perceptron(2, 0.1)\n",
    "p2.train(and_test)\n",
    "print(p2.predict([0, 0]))\n",
    "print(p2.check([1, 1, 1]))\n",
    "print()\n",
    "\n",
    "p3 = Perceptron(2, 0.1)\n",
    "p3.train(nand_test)\n",
    "print(p3.predict([0, 0]))\n",
    "print(p3.check([-1, 1, 1]))\n",
    "print()"
   ]
  },
  {
   "cell_type": "code",
   "execution_count": 4,
   "metadata": {
    "tags": []
   },
   "outputs": [
    {
     "output_type": "stream",
     "name": "stdout",
     "text": "-1\n1\n1\n-1\nTrue\n"
    }
   ],
   "source": [
    "# creating xor operation\n",
    "p_nand = Perceptron(2, 0.1)\n",
    "p_nand.train(nand_test)\n",
    "\n",
    "p_or = Perceptron(2, 0.1)\n",
    "p_or.train(or_test)\n",
    "\n",
    "class XorNeuralNetwork:\n",
    "    def __init__(self):\n",
    "        self.layer1 = [p_nand, p_nand, p_or, p_or]\n",
    "        self.last_neuron = Perceptron(4, 0.1)\n",
    "\n",
    "    def train(self, tests):\n",
    "        converted_tests = []\n",
    "        for test in tests:\n",
    "            converted_test = [0] * 5\n",
    "            converted_test[0] = test[0]\n",
    "            for i in range(4):\n",
    "                converted_test[i + 1] = self.layer1[i].predict(test[1:])\n",
    "            converted_tests.append(converted_test)\n",
    "        self.last_neuron.train(converted_tests)\n",
    "            \n",
    "        return self.last_neuron\n",
    "    \n",
    "    def predict(self, data):\n",
    "        converted_data = [0] * 4\n",
    "        for i in range(4):\n",
    "            converted_data[i] = self.layer1[i].predict(data)\n",
    "        return self.last_neuron.predict(converted_data)\n",
    "    \n",
    "    def check(self, test):\n",
    "        converted_test = [0] * 5\n",
    "        converted_test[0] = test[0]\n",
    "        for i in range(1, 5):\n",
    "            converted_test[i] = self.layer1[i - 1].predict(test[1:])\n",
    "        return self.last_neuron.check(converted_test)\n",
    "\n",
    "net = XorNeuralNetwork()\n",
    "net.train(xor_test)\n",
    "print(net.predict([0, 0]))\n",
    "print(net.predict([0, 1]))\n",
    "print(net.predict([1, 0]))\n",
    "print(net.predict([1, 1]))\n",
    "print(net.check([-1, 0, 0]))"
   ]
  },
  {
   "cell_type": "code",
   "execution_count": null,
   "metadata": {},
   "outputs": [],
   "source": []
  }
 ]
}